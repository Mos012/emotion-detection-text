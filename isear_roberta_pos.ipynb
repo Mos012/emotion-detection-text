{
 "cells": [
  {
   "cell_type": "code",
   "execution_count": 3,
   "metadata": {
    "colab": {
     "base_uri": "https://localhost:8080/"
    },
    "id": "OaFPY01mGlgK",
    "outputId": "09297c7c-b612-40cb-cfdc-a73eb71ca5fc",
    "scrolled": true
   },
   "outputs": [
    {
     "name": "stdout",
     "output_type": "stream",
     "text": [
      "Requirement already satisfied: clean-text in /usr/local/lib/python3.10/dist-packages (0.6.0)\n",
      "Requirement already satisfied: emoji<2.0.0,>=1.0.0 in /usr/local/lib/python3.10/dist-packages (from clean-text) (1.7.0)\n",
      "Requirement already satisfied: ftfy<7.0,>=6.0 in /usr/local/lib/python3.10/dist-packages (from clean-text) (6.1.1)\n",
      "Requirement already satisfied: wcwidth>=0.2.5 in /usr/local/lib/python3.10/dist-packages (from ftfy<7.0,>=6.0->clean-text) (0.2.6)\n"
     ]
    },
    {
     "name": "stderr",
     "output_type": "stream",
     "text": [
      "[nltk_data] Downloading package punkt to /root/nltk_data...\n",
      "[nltk_data]   Package punkt is already up-to-date!\n"
     ]
    },
    {
     "name": "stdout",
     "output_type": "stream",
     "text": [
      "Requirement already satisfied: transformers in /usr/local/lib/python3.10/dist-packages (4.33.3)\n",
      "Requirement already satisfied: filelock in /usr/local/lib/python3.10/dist-packages (from transformers) (3.12.2)\n",
      "Requirement already satisfied: huggingface-hub<1.0,>=0.15.1 in /usr/local/lib/python3.10/dist-packages (from transformers) (0.17.3)\n",
      "Requirement already satisfied: numpy>=1.17 in /usr/local/lib/python3.10/dist-packages (from transformers) (1.23.5)\n",
      "Requirement already satisfied: packaging>=20.0 in /usr/local/lib/python3.10/dist-packages (from transformers) (23.1)\n",
      "Requirement already satisfied: pyyaml>=5.1 in /usr/local/lib/python3.10/dist-packages (from transformers) (6.0.1)\n",
      "Requirement already satisfied: regex!=2019.12.17 in /usr/local/lib/python3.10/dist-packages (from transformers) (2023.6.3)\n",
      "Requirement already satisfied: requests in /usr/local/lib/python3.10/dist-packages (from transformers) (2.31.0)\n",
      "Requirement already satisfied: tokenizers!=0.11.3,<0.14,>=0.11.1 in /usr/local/lib/python3.10/dist-packages (from transformers) (0.13.3)\n",
      "Requirement already satisfied: safetensors>=0.3.1 in /usr/local/lib/python3.10/dist-packages (from transformers) (0.3.3)\n",
      "Requirement already satisfied: tqdm>=4.27 in /usr/local/lib/python3.10/dist-packages (from transformers) (4.66.1)\n",
      "Requirement already satisfied: fsspec in /usr/local/lib/python3.10/dist-packages (from huggingface-hub<1.0,>=0.15.1->transformers) (2023.6.0)\n",
      "Requirement already satisfied: typing-extensions>=3.7.4.3 in /usr/local/lib/python3.10/dist-packages (from huggingface-hub<1.0,>=0.15.1->transformers) (4.5.0)\n",
      "Requirement already satisfied: charset-normalizer<4,>=2 in /usr/local/lib/python3.10/dist-packages (from requests->transformers) (3.2.0)\n",
      "Requirement already satisfied: idna<4,>=2.5 in /usr/local/lib/python3.10/dist-packages (from requests->transformers) (3.4)\n",
      "Requirement already satisfied: urllib3<3,>=1.21.1 in /usr/local/lib/python3.10/dist-packages (from requests->transformers) (2.0.4)\n",
      "Requirement already satisfied: certifi>=2017.4.17 in /usr/local/lib/python3.10/dist-packages (from requests->transformers) (2023.7.22)\n"
     ]
    }
   ],
   "source": [
    "!pip install transformers\n",
    "!pip install clean-text\n",
    "from cleantext import clean\n",
    "from transformers import RobertaTokenizer\n",
    "\n",
    "import random\n",
    "from sklearn.utils import shuffle\n",
    "import numpy as np\n",
    "from tensorflow.keras.utils import to_categorical\n",
    "from tensorflow import keras\n",
    "from keras import backend as K\n",
    "from sklearn.metrics import classification_report\n",
    "from sklearn.metrics import confusion_matrix\n",
    "import seaborn as sns\n",
    "import matplotlib.pyplot as plt\n",
    "from matplotlib.colors import LinearSegmentedColormap\n",
    "from numpy import array\n",
    "from numpy import asarray\n",
    "from numpy import zeros\n",
    "from keras.preprocessing.text import Tokenizer\n",
    "from tensorflow.keras.preprocessing.sequence import pad_sequences\n",
    "from keras.models import Sequential\n",
    "from keras.layers import Dense\n",
    "from keras.layers import Flatten\n",
    "from keras.layers import Embedding\n",
    "from keras.layers import Dense, Input, GlobalMaxPooling1D,LSTM,Bidirectional, Dropout\n",
    "from keras.layers import Conv1D, MaxPooling1D, Embedding\n",
    "from sklearn.model_selection import train_test_split\n",
    "from keras.models import Model\n",
    "from keras.layers import Input, Dense, Embedding, Conv2D, MaxPooling2D, Dropout,concatenate\n",
    "from keras.layers import Reshape, Flatten\n",
    "from keras.callbacks import EarlyStopping\n",
    "from tensorflow.keras.optimizers import Adam\n",
    "from keras.models import Model\n",
    "from keras import regularizers\n",
    "import tensorflow as tf\n",
    "import nltk\n",
    "from nltk import word_tokenize\n",
    "\n",
    "import pandas as pd\n",
    "import re\n",
    "nltk.download('punkt')\n",
    "\n",
    "\n",
    "\n",
    "#converting contracted words\n",
    "\n",
    "def decontracted(phrase):\n",
    "    \n",
    "    phrase = re.sub(r\"won\\'t\", \"will not\", phrase)\n",
    "    phrase = re.sub(r\"can\\'t\", \"can not\", phrase)\n",
    "    phrase = re.sub(r\"n\\'t\", \" not\", phrase)\n",
    "    phrase = re.sub(r\"\\'re\", \" are\", phrase)\n",
    "    phrase = re.sub(r\"\\'s\", \" is\", phrase)\n",
    "    phrase = re.sub(r\"\\'d\", \" would\", phrase)\n",
    "    phrase = re.sub(r\"\\'ll\", \" will\", phrase)\n",
    "    phrase = re.sub(r\"\\'t\", \" not\", phrase)\n",
    "    phrase = re.sub(r\"\\'ve\", \" have\", phrase)\n",
    "    phrase = re.sub(r\"\\'m\", \" am\", phrase)\n",
    "    return phrase\n",
    "\n",
    "\n",
    "#cleaning text\n",
    "\n",
    "def clean_t(text):\n",
    "  x = clean(text,\n",
    "      #fix_unicode=True,               # fix various unicode errors\n",
    "      to_ascii=True,                  # transliterate to closest ASCII representation\n",
    "      lower=True,                     # lowercase text\n",
    "      no_line_breaks=False,           # fully strip line breaks as opposed to only normalizing them\n",
    "      no_urls=True,                  # replace all URLs with a special token\n",
    "      no_emails=True,                # replace all email addresses with a special token\n",
    "      no_phone_numbers=True,         # replace all phone numbers with a special token\n",
    "      no_numbers=False,               # replace all numbers with a special token\n",
    "      no_digits=False,                # replace all digits with a special token\n",
    "      no_currency_symbols=False,      # replace all currency symbols with a special token\n",
    "      no_punct=True,                 # remove punctuations\n",
    "      replace_with_punct=\"\",          # instead of removing punctuations you may replace them\n",
    "      replace_with_url=\"<URL>\",\n",
    "      replace_with_email=\"<EMAIL>\",\n",
    "      replace_with_phone_number=\"<PHONE>\",\n",
    "      replace_with_number=\"<NUMBER>\",\n",
    "      replace_with_digit=\"0\",\n",
    "      replace_with_currency_symbol=\"<CUR>\",\n",
    "      lang=\"en\"                       # set to 'de' for German special handling\n",
    "    )\n",
    "  return decontracted(x)\n",
    "\n",
    "#reading isear dataset and cleaning\n",
    "df = pd.read_csv('/content/isear-en.csv', sep='\\t')\n",
    "emo_label = {i:i-1 for i in range(1,8)}\n",
    "df['emotion1'] = df['emotion'].apply(lambda x: emo_label[x])\n",
    "df['emotion'] = df['emotion1']\n",
    "df['clean_text'] = df['text'].apply(lambda x: clean_t(x))\n",
    "df['text'] = df['clean_text']\n",
    "df.drop('clean_text', axis=1, inplace=True)\n",
    "emo_label = {'joy':0, 'fear':1, 'anger':2, 'sadness':3, 'disgust':4, 'shame':5, 'guilt':6}\n",
    "\n",
    "\n",
    "\n",
    "optimizer = tf.keras.optimizers.legacy.Adam(learning_rate=2e-5, decay=1e-6)\n",
    "loss = tf.keras.losses.CategoricalCrossentropy()\n",
    "acc = tf.keras.metrics.CategoricalAccuracy('accuracy')\n",
    "\n",
    "\n",
    "\n"
   ]
  },
  {
   "cell_type": "code",
   "execution_count": 4,
   "metadata": {
    "id": "lIt6oOPvGV9b"
   },
   "outputs": [],
   "source": [
    "#split dataset to train and test set\n",
    "from sklearn.model_selection import train_test_split\n",
    "x_train, x_test ,y_train, y_test = train_test_split(list(df['text']), list(df['emotion']), test_size=0.2, train_size=0.8, shuffle=True,random_state=21)"
   ]
  },
  {
   "cell_type": "code",
   "execution_count": 5,
   "metadata": {
    "colab": {
     "base_uri": "https://localhost:8080/",
     "height": 113,
     "referenced_widgets": [
      "42b1393ef1534a079eb18c734c9c98be",
      "fe91998786924c75b3d2be994368c72d",
      "05704b073bb6477d9d04e8737d3176e3",
      "485a8c42b75b44e99c058a2808cb6908",
      "1d443069282e474babba67429e9573eb",
      "8378ac445a8544c7bf36ac9252bc59df",
      "680dfa1349084b9f835d3dd45c025842",
      "bfd170be057b421eb6111b9ce7036ba4",
      "50c474f610cb4631b412a214d22d7321",
      "631974cb923648a1ade6e449ee97cf88",
      "3e584a1f7d5c4836bf96203c520b7621",
      "029da55592b748f5b77b1266b89b19ca",
      "2711b0bc0a9c41a3a9c1e04e8fa1103c",
      "068f51ee314c47809220778b6814156d",
      "63b93ab1d1164dfd85977c14175fa815",
      "39779e4dd7544ad8b30b93fe1ae9effc",
      "8d310825baef404fb3f19d590c2c4d3b",
      "d222a8dbfeb64223b6de4b7235ac0f05",
      "7e13a3602621483e88ff770b79b992d8",
      "21a9da86b4c6455ebfcbcaf3d1e19160",
      "79a821f2f0a14297b6bf045ec44324bd",
      "7e6008ed877c42acbbcefa1770735d25",
      "188612ed7ffc4bbeb0fc4d29cb139252",
      "6f98e517928d495ba0afab4f13b44bb3",
      "c2c2324584194f44a42e00fc4e8d13ac",
      "ba7fac6723bf40b39fa3c0dabfc5fa5f",
      "086ecf00e28f4a04925a065f6c426ab2",
      "c1952fd943de4139aadd6b88e2f3fffc",
      "97fde41ac8aa437281588dac9864c457",
      "6a2a89d1204d49f6814c8faa8d88920c",
      "56b0103653c8498fbe7ccfbb7c353ea1",
      "af16b6fcf14b412fa2e32bd9e5eaacc3",
      "7d8511e7607947f1b80bb952c9dda9a9"
     ]
    },
    "id": "PVeqx0ZdGxbZ",
    "outputId": "779d94a9-3e1d-4e6e-b735-275977dcf56a"
   },
   "outputs": [
    {
     "data": {
      "application/vnd.jupyter.widget-view+json": {
       "model_id": "42b1393ef1534a079eb18c734c9c98be",
       "version_major": 2,
       "version_minor": 0
      },
      "text/plain": [
       "Downloading (…)olve/main/vocab.json:   0%|          | 0.00/899k [00:00<?, ?B/s]"
      ]
     },
     "metadata": {},
     "output_type": "display_data"
    },
    {
     "data": {
      "application/vnd.jupyter.widget-view+json": {
       "model_id": "029da55592b748f5b77b1266b89b19ca",
       "version_major": 2,
       "version_minor": 0
      },
      "text/plain": [
       "Downloading (…)olve/main/merges.txt:   0%|          | 0.00/456k [00:00<?, ?B/s]"
      ]
     },
     "metadata": {},
     "output_type": "display_data"
    },
    {
     "data": {
      "application/vnd.jupyter.widget-view+json": {
       "model_id": "188612ed7ffc4bbeb0fc4d29cb139252",
       "version_major": 2,
       "version_minor": 0
      },
      "text/plain": [
       "Downloading (…)lve/main/config.json:   0%|          | 0.00/481 [00:00<?, ?B/s]"
      ]
     },
     "metadata": {},
     "output_type": "display_data"
    }
   ],
   "source": [
    "#using roberta tokenizer to tokenize data\n",
    "tokenizer = RobertaTokenizer.from_pretrained('roberta-base')\n",
    "seq_len = 210\n",
    "\n",
    "# tokenize - this time returning Numpy tensors\n",
    "train_tokens = tokenizer(x_train, max_length=seq_len, truncation=True,\n",
    "                   padding='max_length', add_special_tokens=True,\n",
    "                   return_tensors='tf')\n",
    "test_tokens = tokenizer(x_test, max_length=seq_len, truncation=True,\n",
    "                   padding='max_length', add_special_tokens=True,\n",
    "                   return_tensors='tf')\n",
    "\n",
    "y_train = to_categorical(np.asarray(y_train))\n",
    "y_test = to_categorical(np.asarray(y_test))"
   ]
  },
  {
   "cell_type": "code",
   "execution_count": 6,
   "metadata": {
    "colab": {
     "base_uri": "https://localhost:8080/"
    },
    "id": "kfomR6lXG9bR",
    "outputId": "e457c270-7003-492d-f9fe-8064e5c93b22"
   },
   "outputs": [
    {
     "name": "stderr",
     "output_type": "stream",
     "text": [
      "[nltk_data] Downloading package averaged_perceptron_tagger to\n",
      "[nltk_data]     /root/nltk_data...\n",
      "[nltk_data]   Unzipping taggers/averaged_perceptron_tagger.zip.\n"
     ]
    }
   ],
   "source": [
    "#substituting every word with its POS tag\n",
    "import nltk\n",
    "nltk.download('averaged_perceptron_tagger')\n",
    "from nltk import pos_tag\n",
    "X_train = [' '.join([x[1] for x in pos_tag(x_tr.split())]) for x_tr in x_train]\n",
    "X_test = [' '.join([x[1] for x in pos_tag(x_tr.split())]) for x_tr in x_test]\n",
    "# prepare tokenizer\n",
    "import random\n",
    "random.seed(42)\n",
    "t = Tokenizer()\n",
    "t.fit_on_texts(X_train+X_test)\n",
    "vocab_size = len(t.word_index) + 1\n",
    "# integer encode the documents\n",
    "X_train = t.texts_to_sequences(X_train)\n",
    "X_test = t.texts_to_sequences(X_test)\n",
    "# pad documents to a max length of 4 words\n",
    "max_length = 210\n",
    "X_train = pad_sequences(X_train, maxlen=max_length, padding='post')\n",
    "X_test = pad_sequences(X_test, maxlen=max_length, padding='post')"
   ]
  },
  {
   "cell_type": "code",
   "execution_count": 7,
   "metadata": {
    "id": "HNs_-VwpHHlt"
   },
   "outputs": [],
   "source": [
    "#substituting every word with its dependency parsing tag\n",
    "import spacy\n",
    "nlp = spacy.load('en_core_web_sm')\n",
    "X_train1 = []\n",
    "for x in x_train:\n",
    "  doc = nlp(x)\n",
    "  dep = [token.dep_ for token in doc]\n",
    "  X_train1.append(dep)\n",
    "X_train1 = [' '.join([x for x in X_t]) for X_t in X_train1]\n",
    "#X_test = []\n",
    "X_test1 = []\n",
    "for x in x_test:\n",
    "  doc = nlp(x)\n",
    "  dep = [token.dep_ for token in doc]\n",
    "#  pos = [token.tag_ for token in doc]\n",
    "  X_test1.append(dep)\n",
    "#  X_test.append(pos)\n",
    "X_test1 = [' '.join([x for x in X_t]) for X_t in X_test1]\n",
    "#X_test = [' '.join([x for x in X_t]) for X_t in X_test]\n",
    "# prepare tokenizer\n",
    "t1 = Tokenizer()\n",
    "t1.fit_on_texts(X_train1+X_test1)\n",
    "vocab_size1 = len(t1.word_index) + 1\n",
    "# integer encode the documents\n",
    "X_train1 = t1.texts_to_sequences(X_train1)\n",
    "X_test1 = t1.texts_to_sequences(X_test1)\n",
    "# pad documents to a max length of 4 words\n",
    "max_length = 210\n",
    "X_train1 = pad_sequences(X_train1, maxlen=max_length, padding='post')\n",
    "X_test1 = pad_sequences(X_test1, maxlen=max_length, padding='post')"
   ]
  },
  {
   "cell_type": "code",
   "execution_count": 21,
   "metadata": {
    "id": "cz8-sbvQHNg3"
   },
   "outputs": [],
   "source": [
    "#Robetra with POS model\n",
    "import tensorflow as tf\n",
    "def create_model():\n",
    "  np.random.seed(7)\n",
    "  tf.random.set_seed(7)\n",
    "  model3 = Sequential()\n",
    "  bert = TFRobertaModel.from_pretrained('roberta-base')\n",
    "  #bert.trainable = False\n",
    "  # two input layers, we ensure layer name variables match to dictionary keys in TF dataset\n",
    "  inputs1 = Input(shape=(210,))\n",
    "  input_ids = tf.keras.layers.Input(shape=(210,), name='input_ids', dtype='int32')\n",
    "  mask = tf.keras.layers.Input(shape=(210,), name='attention_mask', dtype='int32')\n",
    "  embeddings = bert(input_ids, mask)[1]  # access final activations (alread max-pooled) [1]\n",
    "  embedding = tf.keras.layers.Embedding(vocab_size, 6)(inputs1)\n",
    "  #lstm1 = Bidirectional(LSTM(64, return_sequences=False))(embedding)\n",
    "  #lstm1 = Dropout(0.3)(lstm1)\n",
    "  #lstm1 = MaxPooling1D(2,strides=2)(lstm1)\n",
    "  #embeddings = Reshape((48,16))(embeddings)\n",
    "  lstm1 = Flatten()(embedding)\n",
    "  x = concatenate([embeddings, lstm1])\n",
    "  #y = Flatten()(x)\n",
    "  #y = tf.keras.layers.Dense(100, activation='relu')(y)\n",
    "  #y = tf.keras.layers.Dropout(0.3)(y)\n",
    "  y = tf.keras.layers.Dense(7, activation='softmax', name='outputs')(x)\n",
    "  model3 = tf.keras.Model(inputs=[input_ids, mask, inputs1], outputs=y)\n",
    "  return model3"
   ]
  },
  {
   "cell_type": "code",
   "execution_count": 22,
   "metadata": {
    "id": "LMoiuu-_Hsw-"
   },
   "outputs": [],
   "source": [
    "from sklearn.utils.class_weight import compute_class_weight\n",
    "y_ints = [y.argmax() for y in y_train]\n",
    "class_weights = compute_class_weight(class_weight = \"balanced\", classes= np.unique(y_ints), y= y_ints)\n",
    "class_weight_dict = dict(enumerate(class_weights))"
   ]
  },
  {
   "cell_type": "code",
   "execution_count": 23,
   "metadata": {
    "colab": {
     "base_uri": "https://localhost:8080/"
    },
    "id": "3-O_uyk4NJxX",
    "outputId": "893cc483-e41c-4307-b59c-a2a80fb00970"
   },
   "outputs": [
    {
     "name": "stderr",
     "output_type": "stream",
     "text": [
      "Some weights of the PyTorch model were not used when initializing the TF 2.0 model TFRobertaModel: ['roberta.embeddings.position_ids', 'lm_head.dense.bias', 'lm_head.layer_norm.weight', 'lm_head.dense.weight', 'lm_head.bias', 'lm_head.layer_norm.bias']\n",
      "- This IS expected if you are initializing TFRobertaModel from a PyTorch model trained on another task or with another architecture (e.g. initializing a TFBertForSequenceClassification model from a BertForPreTraining model).\n",
      "- This IS NOT expected if you are initializing TFRobertaModel from a PyTorch model that you expect to be exactly identical (e.g. initializing a TFBertForSequenceClassification model from a BertForSequenceClassification model).\n",
      "Some weights or buffers of the TF 2.0 model TFRobertaModel were not initialized from the PyTorch model and are newly initialized: ['roberta.pooler.dense.weight', 'roberta.pooler.dense.bias']\n",
      "You should probably TRAIN this model on a down-stream task to be able to use it for predictions and inference.\n"
     ]
    }
   ],
   "source": [
    "model1 = create_model()\n",
    "optimizer = tf.keras.optimizers.legacy.Adam(learning_rate=2e-5, decay=1e-6)\n",
    "model1.compile(optimizer=optimizer, loss='categorical_crossentropy', metrics=['acc'])"
   ]
  },
  {
   "cell_type": "code",
   "execution_count": 24,
   "metadata": {
    "colab": {
     "base_uri": "https://localhost:8080/"
    },
    "id": "AORtn8szIb2s",
    "outputId": "88a50c7e-fad7-4b22-ee3d-0fdc27fca4b3"
   },
   "outputs": [
    {
     "name": "stdout",
     "output_type": "stream",
     "text": [
      "Epoch 1/2\n",
      "374/374 [==============================] - 316s 776ms/step - loss: 1.1477 - acc: 0.5705 - val_loss: 0.7656 - val_acc: 0.7490\n",
      "Epoch 2/2\n",
      "374/374 [==============================] - 304s 813ms/step - loss: 0.7020 - acc: 0.7578 - val_loss: 0.8124 - val_acc: 0.7383\n"
     ]
    }
   ],
   "source": [
    "history = model1.fit([train_tokens['input_ids'], train_tokens['attention_mask'], X_train], y_train, validation_data= ([test_tokens['input_ids'], test_tokens['attention_mask'], X_test], y_test), shuffle=True,\n",
    "              batch_size=16,\n",
    "              epochs=2, class_weight=class_weight_dict) #, class_weight=class_weights\n",
    "#evaluation(model1, [test_tokens['input_ids'], test_tokens['attention_mask'], X_test], y_test)"
   ]
  },
  {
   "cell_type": "code",
   "execution_count": 25,
   "metadata": {
    "colab": {
     "base_uri": "https://localhost:8080/"
    },
    "id": "zVKqef7IIueB",
    "outputId": "1aa0ad0f-05d4-484a-b1ae-69d4671a9e37"
   },
   "outputs": [
    {
     "name": "stdout",
     "output_type": "stream",
     "text": [
      "Epoch 1/2\n",
      "374/374 [==============================] - 306s 773ms/step - loss: 0.4075 - acc: 0.8718 - val_loss: 0.7759 - val_acc: 0.7497\n",
      "Epoch 2/2\n",
      "374/374 [==============================] - 304s 812ms/step - loss: 0.3200 - acc: 0.9068 - val_loss: 0.7765 - val_acc: 0.7564\n"
     ]
    }
   ],
   "source": [
    "optimizer = tf.keras.optimizers.legacy.Adam(learning_rate=2e-7)\n",
    "model1.compile(optimizer=optimizer, loss='categorical_crossentropy', metrics=['acc'])\n",
    "history = model1.fit([train_tokens['input_ids'], train_tokens['attention_mask'], X_train], y_train, validation_data= ([test_tokens['input_ids'], test_tokens['attention_mask'], X_test], y_test), shuffle=True,\n",
    "              batch_size=16,\n",
    "              epochs=2, class_weight=class_weight_dict) #, class_weight=class_weights\n",
    "#evaluation(model1, [test_tokens['input_ids'], test_tokens['attention_mask'], X_test], y_test)"
   ]
  },
  {
   "cell_type": "code",
   "execution_count": 26,
   "metadata": {
    "id": "RGY6Q9hSKeg2"
   },
   "outputs": [],
   "source": [
    "def recall_m(y_true, y_pred):\n",
    "    true_positives = K.sum(K.round(K.clip(y_true * y_pred, 0, 1)))\n",
    "    possible_positives = K.sum(K.round(K.clip(y_true, 0, 1)))\n",
    "    recall = true_positives / (possible_positives + K.epsilon())\n",
    "    return recall\n",
    "\n",
    "def precision_m(y_true, y_pred):\n",
    "    true_positives = K.sum(K.round(K.clip(y_true * y_pred, 0, 1)))\n",
    "    predicted_positives = K.sum(K.round(K.clip(y_pred, 0, 1)))\n",
    "    precision = true_positives / (predicted_positives + K.epsilon())\n",
    "    return precision\n",
    "\n",
    "def f1_m(y_true, y_pred):\n",
    "    precision = precision_m(y_true, y_pred)\n",
    "    recall = recall_m(y_true, y_pred)\n",
    "    return 2*((precision*recall)/(precision+recall+K.epsilon()))\n",
    "\n",
    "\n",
    "\n",
    "colors = ['#ffffff', '#fbcbff', '#707bfb']\n",
    "cmap = LinearSegmentedColormap.from_list('mycmap', colors)\n",
    "\n",
    "\n",
    "def evaluation(model, x_test, y_test):\n",
    "    y_pred = model.predict([x_test], batch_size=16, verbose=1)\n",
    "    print(classification_report(y_test.argmax(axis=1), y_pred.argmax(axis=1)))\n",
    "    print('f1-micro: ',f1_m(y_test, y_pred))\n",
    "    print('precision-micro: ',precision_m(y_test, y_pred))\n",
    "    print('recall-micro: ',recall_m(y_test, y_pred))\n",
    "    cm = confusion_matrix(y_test.argmax(axis=1), y_pred.argmax(axis=1))\n",
    "    # Normalise\n",
    "    cmn = cm.astype('float') / cm.sum(axis=1)[:, np.newaxis]\n",
    "    fig, ax = plt.subplots(figsize=(7,7))\n",
    "    sns.heatmap(cmn,cmap=cmap, annot=True, fmt='.2f',xticklabels=emo_label.keys(), yticklabels=emo_label.keys())\n",
    "    plt.ylabel('Actual')\n",
    "    plt.xlabel('Predicted')\n",
    "    print('      confusion matrix')\n",
    "    plt.show(block=False)"
   ]
  },
  {
   "cell_type": "code",
   "execution_count": 27,
   "metadata": {
    "colab": {
     "base_uri": "https://localhost:8080/",
     "height": 949
    },
    "id": "fWhfxsZCLClo",
    "outputId": "a8aaeafd-31dd-4016-ec0b-76d4dee59929"
   },
   "outputs": [
    {
     "name": "stdout",
     "output_type": "stream",
     "text": [
      "94/94 [==============================] - 25s 239ms/step\n",
      "              precision    recall  f1-score   support\n",
      "\n",
      "           0       0.88      0.94      0.91       220\n",
      "           1       0.84      0.82      0.83       239\n",
      "           2       0.65      0.65      0.65       214\n",
      "           3       0.77      0.79      0.78       209\n",
      "           4       0.73      0.73      0.73       203\n",
      "           5       0.65      0.62      0.63       193\n",
      "           6       0.73      0.72      0.73       216\n",
      "\n",
      "    accuracy                           0.76      1494\n",
      "   macro avg       0.75      0.75      0.75      1494\n",
      "weighted avg       0.75      0.76      0.76      1494\n",
      "\n",
      "f1-micro:  tf.Tensor(0.75668067, shape=(), dtype=float32)\n",
      "precision-micro:  tf.Tensor(0.79703707, shape=(), dtype=float32)\n",
      "recall-micro:  tf.Tensor(0.7202142, shape=(), dtype=float32)\n",
      "      confusion matrix\n"
     ]
    },
    {
     "data": {
      "image/png": "[encoded data removed]",
      "text/plain": [
       "<Figure size 700x700 with 2 Axes>"
      ]
     },
     "metadata": {},
     "output_type": "display_data"
    }
   ],
   "source": [
    "evaluation(model1, [test_tokens['input_ids'], test_tokens['attention_mask'], X_test], y_test)"
   ]
  },
  {
   "cell_type": "code",
   "execution_count": 18,
   "metadata": {
    "id": "cl_NI1A1_orQ"
   },
   "outputs": [],
   "source": [
    "#Roberta with Dependency parsing tags\n",
    "import tensorflow as tf\n",
    "def create_model():\n",
    "  np.random.seed(7)\n",
    "  tf.random.set_seed(7)\n",
    "  model3 = Sequential()\n",
    "  bert = TFRobertaModel.from_pretrained('roberta-base')\n",
    "  #bert.trainable = False\n",
    "  # two input layers, we ensure layer name variables match to dictionary keys in TF dataset\n",
    "  inputs1 = Input(shape=(210,))\n",
    "  input_ids = tf.keras.layers.Input(shape=(210,), name='input_ids', dtype='int32')\n",
    "  mask = tf.keras.layers.Input(shape=(210,), name='attention_mask', dtype='int32')\n",
    "  embeddings = bert(input_ids, mask)[1]  # access final activations (alread max-pooled) [1]\n",
    "  embedding = tf.keras.layers.Embedding(vocab_size1, 6)(inputs1)\n",
    "  #lstm1 = Bidirectional(LSTM(64, return_sequences=False))(embedding)\n",
    "  #lstm1 = Dropout(0.3)(lstm1)\n",
    "  #lstm1 = MaxPooling1D(2,strides=2)(lstm1)\n",
    "  #embeddings = Reshape((48,16))(embeddings)\n",
    "  lstm1 = Flatten()(embedding)\n",
    "  x = concatenate([embeddings, lstm1])\n",
    "  #y = Flatten()(x)\n",
    "  #y = tf.keras.layers.Dense(100, activation='relu')(y)\n",
    "  #y = tf.keras.layers.Dropout(0.3)(y)\n",
    "  y = tf.keras.layers.Dense(7, activation='softmax', name='outputs')(x)\n",
    "  model3 = tf.keras.Model(inputs=[input_ids, mask, inputs1], outputs=y)\n",
    "  return model3"
   ]
  },
  {
   "cell_type": "code",
   "execution_count": 19,
   "metadata": {
    "id": "TswRq6GP_orS"
   },
   "outputs": [],
   "source": [
    "from sklearn.utils.class_weight import compute_class_weight\n",
    "y_ints = [y.argmax() for y in y_train]\n",
    "class_weights = compute_class_weight(class_weight = \"balanced\", classes= np.unique(y_ints), y= y_ints)\n",
    "class_weight_dict = dict(enumerate(class_weights))"
   ]
  },
  {
   "cell_type": "code",
   "execution_count": 20,
   "metadata": {
    "colab": {
     "base_uri": "https://localhost:8080/"
    },
    "id": "8idh1VPU_orT",
    "outputId": "dfa748c4-2791-4878-a7ff-4ffa59e696b8"
   },
   "outputs": [
    {
     "name": "stderr",
     "output_type": "stream",
     "text": [
      "Some weights of the PyTorch model were not used when initializing the TF 2.0 model TFRobertaModel: ['roberta.embeddings.position_ids', 'lm_head.dense.bias', 'lm_head.layer_norm.weight', 'lm_head.dense.weight', 'lm_head.bias', 'lm_head.layer_norm.bias']\n",
      "- This IS expected if you are initializing TFRobertaModel from a PyTorch model trained on another task or with another architecture (e.g. initializing a TFBertForSequenceClassification model from a BertForPreTraining model).\n",
      "- This IS NOT expected if you are initializing TFRobertaModel from a PyTorch model that you expect to be exactly identical (e.g. initializing a TFBertForSequenceClassification model from a BertForSequenceClassification model).\n",
      "Some weights or buffers of the TF 2.0 model TFRobertaModel were not initialized from the PyTorch model and are newly initialized: ['roberta.pooler.dense.weight', 'roberta.pooler.dense.bias']\n",
      "You should probably TRAIN this model on a down-stream task to be able to use it for predictions and inference.\n"
     ]
    }
   ],
   "source": [
    "model2 = create_model()\n",
    "optimizer = tf.keras.optimizers.legacy.Adam(learning_rate=2e-5, decay=1e-6)\n",
    "model2.compile(optimizer=optimizer, loss='categorical_crossentropy', metrics=['acc'])"
   ]
  },
  {
   "cell_type": "code",
   "execution_count": null,
   "metadata": {
    "colab": {
     "base_uri": "https://localhost:8080/"
    },
    "id": "Jbjhw6FO_orV",
    "outputId": "dda4b335-ef5b-4cc8-c68a-4bb323de53a2"
   },
   "outputs": [
    {
     "name": "stdout",
     "output_type": "stream",
     "text": [
      "Epoch 1/2\n",
      "374/374 [==============================] - 331s 824ms/step - loss: 1.1790 - acc: 0.5646 - val_loss: 0.8010 - val_acc: 0.7242\n",
      "Epoch 2/2\n",
      "374/374 [==============================] - 305s 816ms/step - loss: 0.7159 - acc: 0.7484 - val_loss: 0.7919 - val_acc: 0.7450\n"
     ]
    }
   ],
   "source": [
    "history = model2.fit([train_tokens['input_ids'], train_tokens['attention_mask'], X_train1], y_train, validation_data= ([test_tokens['input_ids'], test_tokens['attention_mask'], X_test1], y_test), shuffle=True,\n",
    "              batch_size=16,\n",
    "              epochs=2, class_weight=class_weight_dict) #, class_weight=class_weights\n",
    "#evaluation(model1, [test_tokens['input_ids'], test_tokens['attention_mask'], X_test], y_test)"
   ]
  },
  {
   "cell_type": "code",
   "execution_count": null,
   "metadata": {
    "colab": {
     "base_uri": "https://localhost:8080/"
    },
    "id": "b0BwiFw6_orV",
    "outputId": "26f10ee2-73d9-4176-c8a6-ed40014a85bf"
   },
   "outputs": [
    {
     "name": "stdout",
     "output_type": "stream",
     "text": [
      "Epoch 1/2\n",
      "374/374 [==============================] - 305s 771ms/step - loss: 0.4234 - acc: 0.8654 - val_loss: 0.7654 - val_acc: 0.7577\n",
      "Epoch 2/2\n",
      "374/374 [==============================] - 303s 811ms/step - loss: 0.3295 - acc: 0.9004 - val_loss: 0.7715 - val_acc: 0.7577\n"
     ]
    }
   ],
   "source": [
    "optimizer = tf.keras.optimizers.legacy.Adam(learning_rate=2e-7)\n",
    "model2.compile(optimizer=optimizer, loss='categorical_crossentropy', metrics=['acc'])\n",
    "history = model2.fit([train_tokens['input_ids'], train_tokens['attention_mask'], X_train1], y_train, validation_data= ([test_tokens['input_ids'], test_tokens['attention_mask'], X_test1], y_test), shuffle=True,\n",
    "              batch_size=16,\n",
    "              epochs=2, class_weight=class_weight_dict) #, class_weight=class_weights\n",
    "#evaluation(model1, [test_tokens['input_ids'], test_tokens['attention_mask'], X_test], y_test)"
   ]
  },
  {
   "cell_type": "code",
   "execution_count": null,
   "metadata": {
    "colab": {
     "base_uri": "https://localhost:8080/",
     "height": 949
    },
    "id": "0UIGkBxM_orW",
    "outputId": "ce3ec8cd-a9ed-4015-e0e9-04b4d64be82e"
   },
   "outputs": [
    {
     "name": "stdout",
     "output_type": "stream",
     "text": [
      "94/94 [==============================] - 31s 253ms/step\n",
      "              precision    recall  f1-score   support\n",
      "\n",
      "           0       0.87      0.92      0.90       220\n",
      "           1       0.87      0.83      0.85       239\n",
      "           2       0.65      0.69      0.67       214\n",
      "           3       0.77      0.77      0.77       209\n",
      "           4       0.72      0.72      0.72       203\n",
      "           5       0.66      0.63      0.65       193\n",
      "           6       0.73      0.71      0.72       216\n",
      "\n",
      "    accuracy                           0.76      1494\n",
      "   macro avg       0.75      0.75      0.75      1494\n",
      "weighted avg       0.76      0.76      0.76      1494\n",
      "\n",
      "f1-micro:  tf.Tensor(0.75908285, shape=(), dtype=float32)\n",
      "precision-micro:  tf.Tensor(0.8023863, shape=(), dtype=float32)\n",
      "recall-micro:  tf.Tensor(0.7202142, shape=(), dtype=float32)\n",
      "      confusion matrix\n"
     ]
    },
    {
     "data": {
      "image/png": "[encoded data removed]",
      "text/plain": [
       "<Figure size 700x700 with 2 Axes>"
      ]
     },
     "metadata": {},
     "output_type": "display_data"
    }
   ],
   "source": [
    "evaluation(model2, [test_tokens['input_ids'], test_tokens['attention_mask'], X_test1], y_test)"
   ]
  }
 ],
 "metadata": {
  "accelerator": "GPU",
  "colab": {
   "gpuType": "T4",
   "provenance": []
  },
  "kernelspec": {
   "display_name": "Python 3 (ipykernel)",
   "language": "python",
   "name": "python3"
  },
  "language_info": {
   "codemirror_mode": {
    "name": "ipython",
    "version": 3
   },
   "file_extension": ".py",
   "mimetype": "text/x-python",
   "name": "python",
   "nbconvert_exporter": "python",
   "pygments_lexer": "ipython3",
   "version": "3.10.12"
  },
  "widgets": {
   "application/vnd.jupyter.widget-state+json": {
    "029da55592b748f5b77b1266b89b19ca": {
     "model_module": "@jupyter-widgets/controls",
     "model_module_version": "1.5.0",
     "model_name": "HBoxModel",
     "state": {
      "_dom_classes": [],
      "_model_module": "@jupyter-widgets/controls",
      "_model_module_version": "1.5.0",
      "_model_name": "HBoxModel",
      "_view_count": null,
      "_view_module": "@jupyter-widgets/controls",
      "_view_module_version": "1.5.0",
      "_view_name": "HBoxView",
      "box_style": "",
      "children": [
       "IPY_MODEL_2711b0bc0a9c41a3a9c1e04e8fa1103c",
       "IPY_MODEL_068f51ee314c47809220778b6814156d",
       "IPY_MODEL_63b93ab1d1164dfd85977c14175fa815"
      ],
      "layout": "IPY_MODEL_39779e4dd7544ad8b30b93fe1ae9effc"
     }
    },
    "05704b073bb6477d9d04e8737d3176e3": {
     "model_module": "@jupyter-widgets/controls",
     "model_module_version": "1.5.0",
     "model_name": "FloatProgressModel",
     "state": {
      "_dom_classes": [],
      "_model_module": "@jupyter-widgets/controls",
      "_model_module_version": "1.5.0",
      "_model_name": "FloatProgressModel",
      "_view_count": null,
      "_view_module": "@jupyter-widgets/controls",
      "_view_module_version": "1.5.0",
      "_view_name": "ProgressView",
      "bar_style": "success",
      "description": "",
      "description_tooltip": null,
      "layout": "IPY_MODEL_bfd170be057b421eb6111b9ce7036ba4",
      "max": 898823,
      "min": 0,
      "orientation": "horizontal",
      "style": "IPY_MODEL_50c474f610cb4631b412a214d22d7321",
      "value": 898823
     }
    },
    "068f51ee314c47809220778b6814156d": {
     "model_module": "@jupyter-widgets/controls",
     "model_module_version": "1.5.0",
     "model_name": "FloatProgressModel",
     "state": {
      "_dom_classes": [],
      "_model_module": "@jupyter-widgets/controls",
      "_model_module_version": "1.5.0",
      "_model_name": "FloatProgressModel",
      "_view_count": null,
      "_view_module": "@jupyter-widgets/controls",
      "_view_module_version": "1.5.0",
      "_view_name": "ProgressView",
      "bar_style": "success",
      "description": "",
      "description_tooltip": null,
      "layout": "IPY_MODEL_7e13a3602621483e88ff770b79b992d8",
      "max": 456318,
      "min": 0,
      "orientation": "horizontal",
      "style": "IPY_MODEL_21a9da86b4c6455ebfcbcaf3d1e19160",
      "value": 456318
     }
    },
    "086ecf00e28f4a04925a065f6c426ab2": {
     "model_module": "@jupyter-widgets/base",
     "model_module_version": "1.2.0",
     "model_name": "LayoutModel",
     "state": {
      "_model_module": "@jupyter-widgets/base",
      "_model_module_version": "1.2.0",
      "_model_name": "LayoutModel",
      "_view_count": null,
      "_view_module": "@jupyter-widgets/base",
      "_view_module_version": "1.2.0",
      "_view_name": "LayoutView",
      "align_content": null,
      "align_items": null,
      "align_self": null,
      "border": null,
      "bottom": null,
      "display": null,
      "flex": null,
      "flex_flow": null,
      "grid_area": null,
      "grid_auto_columns": null,
      "grid_auto_flow": null,
      "grid_auto_rows": null,
      "grid_column": null,
      "grid_gap": null,
      "grid_row": null,
      "grid_template_areas": null,
      "grid_template_columns": null,
      "grid_template_rows": null,
      "height": null,
      "justify_content": null,
      "justify_items": null,
      "left": null,
      "margin": null,
      "max_height": null,
      "max_width": null,
      "min_height": null,
      "min_width": null,
      "object_fit": null,
      "object_position": null,
      "order": null,
      "overflow": null,
      "overflow_x": null,
      "overflow_y": null,
      "padding": null,
      "right": null,
      "top": null,
      "visibility": null,
      "width": null
     }
    },
    "188612ed7ffc4bbeb0fc4d29cb139252": {
     "model_module": "@jupyter-widgets/controls",
     "model_module_version": "1.5.0",
     "model_name": "HBoxModel",
     "state": {
      "_dom_classes": [],
      "_model_module": "@jupyter-widgets/controls",
      "_model_module_version": "1.5.0",
      "_model_name": "HBoxModel",
      "_view_count": null,
      "_view_module": "@jupyter-widgets/controls",
      "_view_module_version": "1.5.0",
      "_view_name": "HBoxView",
      "box_style": "",
      "children": [
       "IPY_MODEL_6f98e517928d495ba0afab4f13b44bb3",
       "IPY_MODEL_c2c2324584194f44a42e00fc4e8d13ac",
       "IPY_MODEL_ba7fac6723bf40b39fa3c0dabfc5fa5f"
      ],
      "layout": "IPY_MODEL_086ecf00e28f4a04925a065f6c426ab2"
     }
    },
    "1d443069282e474babba67429e9573eb": {
     "model_module": "@jupyter-widgets/base",
     "model_module_version": "1.2.0",
     "model_name": "LayoutModel",
     "state": {
      "_model_module": "@jupyter-widgets/base",
      "_model_module_version": "1.2.0",
      "_model_name": "LayoutModel",
      "_view_count": null,
      "_view_module": "@jupyter-widgets/base",
      "_view_module_version": "1.2.0",
      "_view_name": "LayoutView",
      "align_content": null,
      "align_items": null,
      "align_self": null,
      "border": null,
      "bottom": null,
      "display": null,
      "flex": null,
      "flex_flow": null,
      "grid_area": null,
      "grid_auto_columns": null,
      "grid_auto_flow": null,
      "grid_auto_rows": null,
      "grid_column": null,
      "grid_gap": null,
      "grid_row": null,
      "grid_template_areas": null,
      "grid_template_columns": null,
      "grid_template_rows": null,
      "height": null,
      "justify_content": null,
      "justify_items": null,
      "left": null,
      "margin": null,
      "max_height": null,
      "max_width": null,
      "min_height": null,
      "min_width": null,
      "object_fit": null,
      "object_position": null,
      "order": null,
      "overflow": null,
      "overflow_x": null,
      "overflow_y": null,
      "padding": null,
      "right": null,
      "top": null,
      "visibility": null,
      "width": null
     }
    },
    "21a9da86b4c6455ebfcbcaf3d1e19160": {
     "model_module": "@jupyter-widgets/controls",
     "model_module_version": "1.5.0",
     "model_name": "ProgressStyleModel",
     "state": {
      "_model_module": "@jupyter-widgets/controls",
      "_model_module_version": "1.5.0",
      "_model_name": "ProgressStyleModel",
      "_view_count": null,
      "_view_module": "@jupyter-widgets/base",
      "_view_module_version": "1.2.0",
      "_view_name": "StyleView",
      "bar_color": null,
      "description_width": ""
     }
    },
    "2711b0bc0a9c41a3a9c1e04e8fa1103c": {
     "model_module": "@jupyter-widgets/controls",
     "model_module_version": "1.5.0",
     "model_name": "HTMLModel",
     "state": {
      "_dom_classes": [],
      "_model_module": "@jupyter-widgets/controls",
      "_model_module_version": "1.5.0",
      "_model_name": "HTMLModel",
      "_view_count": null,
      "_view_module": "@jupyter-widgets/controls",
      "_view_module_version": "1.5.0",
      "_view_name": "HTMLView",
      "description": "",
      "description_tooltip": null,
      "layout": "IPY_MODEL_8d310825baef404fb3f19d590c2c4d3b",
      "placeholder": "​",
      "style": "IPY_MODEL_d222a8dbfeb64223b6de4b7235ac0f05",
      "value": "Downloading (…)olve/main/merges.txt: 100%"
     }
    },
    "39779e4dd7544ad8b30b93fe1ae9effc": {
     "model_module": "@jupyter-widgets/base",
     "model_module_version": "1.2.0",
     "model_name": "LayoutModel",
     "state": {
      "_model_module": "@jupyter-widgets/base",
      "_model_module_version": "1.2.0",
      "_model_name": "LayoutModel",
      "_view_count": null,
      "_view_module": "@jupyter-widgets/base",
      "_view_module_version": "1.2.0",
      "_view_name": "LayoutView",
      "align_content": null,
      "align_items": null,
      "align_self": null,
      "border": null,
      "bottom": null,
      "display": null,
      "flex": null,
      "flex_flow": null,
      "grid_area": null,
      "grid_auto_columns": null,
      "grid_auto_flow": null,
      "grid_auto_rows": null,
      "grid_column": null,
      "grid_gap": null,
      "grid_row": null,
      "grid_template_areas": null,
      "grid_template_columns": null,
      "grid_template_rows": null,
      "height": null,
      "justify_content": null,
      "justify_items": null,
      "left": null,
      "margin": null,
      "max_height": null,
      "max_width": null,
      "min_height": null,
      "min_width": null,
      "object_fit": null,
      "object_position": null,
      "order": null,
      "overflow": null,
      "overflow_x": null,
      "overflow_y": null,
      "padding": null,
      "right": null,
      "top": null,
      "visibility": null,
      "width": null
     }
    },
    "3e584a1f7d5c4836bf96203c520b7621": {
     "model_module": "@jupyter-widgets/controls",
     "model_module_version": "1.5.0",
     "model_name": "DescriptionStyleModel",
     "state": {
      "_model_module": "@jupyter-widgets/controls",
      "_model_module_version": "1.5.0",
      "_model_name": "DescriptionStyleModel",
      "_view_count": null,
      "_view_module": "@jupyter-widgets/base",
      "_view_module_version": "1.2.0",
      "_view_name": "StyleView",
      "description_width": ""
     }
    },
    "42b1393ef1534a079eb18c734c9c98be": {
     "model_module": "@jupyter-widgets/controls",
     "model_module_version": "1.5.0",
     "model_name": "HBoxModel",
     "state": {
      "_dom_classes": [],
      "_model_module": "@jupyter-widgets/controls",
      "_model_module_version": "1.5.0",
      "_model_name": "HBoxModel",
      "_view_count": null,
      "_view_module": "@jupyter-widgets/controls",
      "_view_module_version": "1.5.0",
      "_view_name": "HBoxView",
      "box_style": "",
      "children": [
       "IPY_MODEL_fe91998786924c75b3d2be994368c72d",
       "IPY_MODEL_05704b073bb6477d9d04e8737d3176e3",
       "IPY_MODEL_485a8c42b75b44e99c058a2808cb6908"
      ],
      "layout": "IPY_MODEL_1d443069282e474babba67429e9573eb"
     }
    },
    "485a8c42b75b44e99c058a2808cb6908": {
     "model_module": "@jupyter-widgets/controls",
     "model_module_version": "1.5.0",
     "model_name": "HTMLModel",
     "state": {
      "_dom_classes": [],
      "_model_module": "@jupyter-widgets/controls",
      "_model_module_version": "1.5.0",
      "_model_name": "HTMLModel",
      "_view_count": null,
      "_view_module": "@jupyter-widgets/controls",
      "_view_module_version": "1.5.0",
      "_view_name": "HTMLView",
      "description": "",
      "description_tooltip": null,
      "layout": "IPY_MODEL_631974cb923648a1ade6e449ee97cf88",
      "placeholder": "​",
      "style": "IPY_MODEL_3e584a1f7d5c4836bf96203c520b7621",
      "value": " 899k/899k [00:00&lt;00:00, 4.75MB/s]"
     }
    },
    "50c474f610cb4631b412a214d22d7321": {
     "model_module": "@jupyter-widgets/controls",
     "model_module_version": "1.5.0",
     "model_name": "ProgressStyleModel",
     "state": {
      "_model_module": "@jupyter-widgets/controls",
      "_model_module_version": "1.5.0",
      "_model_name": "ProgressStyleModel",
      "_view_count": null,
      "_view_module": "@jupyter-widgets/base",
      "_view_module_version": "1.2.0",
      "_view_name": "StyleView",
      "bar_color": null,
      "description_width": ""
     }
    },
    "56b0103653c8498fbe7ccfbb7c353ea1": {
     "model_module": "@jupyter-widgets/controls",
     "model_module_version": "1.5.0",
     "model_name": "ProgressStyleModel",
     "state": {
      "_model_module": "@jupyter-widgets/controls",
      "_model_module_version": "1.5.0",
      "_model_name": "ProgressStyleModel",
      "_view_count": null,
      "_view_module": "@jupyter-widgets/base",
      "_view_module_version": "1.2.0",
      "_view_name": "StyleView",
      "bar_color": null,
      "description_width": ""
     }
    },
    "631974cb923648a1ade6e449ee97cf88": {
     "model_module": "@jupyter-widgets/base",
     "model_module_version": "1.2.0",
     "model_name": "LayoutModel",
     "state": {
      "_model_module": "@jupyter-widgets/base",
      "_model_module_version": "1.2.0",
      "_model_name": "LayoutModel",
      "_view_count": null,
      "_view_module": "@jupyter-widgets/base",
      "_view_module_version": "1.2.0",
      "_view_name": "LayoutView",
      "align_content": null,
      "align_items": null,
      "align_self": null,
      "border": null,
      "bottom": null,
      "display": null,
      "flex": null,
      "flex_flow": null,
      "grid_area": null,
      "grid_auto_columns": null,
      "grid_auto_flow": null,
      "grid_auto_rows": null,
      "grid_column": null,
      "grid_gap": null,
      "grid_row": null,
      "grid_template_areas": null,
      "grid_template_columns": null,
      "grid_template_rows": null,
      "height": null,
      "justify_content": null,
      "justify_items": null,
      "left": null,
      "margin": null,
      "max_height": null,
      "max_width": null,
      "min_height": null,
      "min_width": null,
      "object_fit": null,
      "object_position": null,
      "order": null,
      "overflow": null,
      "overflow_x": null,
      "overflow_y": null,
      "padding": null,
      "right": null,
      "top": null,
      "visibility": null,
      "width": null
     }
    },
    "63b93ab1d1164dfd85977c14175fa815": {
     "model_module": "@jupyter-widgets/controls",
     "model_module_version": "1.5.0",
     "model_name": "HTMLModel",
     "state": {
      "_dom_classes": [],
      "_model_module": "@jupyter-widgets/controls",
      "_model_module_version": "1.5.0",
      "_model_name": "HTMLModel",
      "_view_count": null,
      "_view_module": "@jupyter-widgets/controls",
      "_view_module_version": "1.5.0",
      "_view_name": "HTMLView",
      "description": "",
      "description_tooltip": null,
      "layout": "IPY_MODEL_79a821f2f0a14297b6bf045ec44324bd",
      "placeholder": "​",
      "style": "IPY_MODEL_7e6008ed877c42acbbcefa1770735d25",
      "value": " 456k/456k [00:00&lt;00:00, 9.99MB/s]"
     }
    },
    "680dfa1349084b9f835d3dd45c025842": {
     "model_module": "@jupyter-widgets/controls",
     "model_module_version": "1.5.0",
     "model_name": "DescriptionStyleModel",
     "state": {
      "_model_module": "@jupyter-widgets/controls",
      "_model_module_version": "1.5.0",
      "_model_name": "DescriptionStyleModel",
      "_view_count": null,
      "_view_module": "@jupyter-widgets/base",
      "_view_module_version": "1.2.0",
      "_view_name": "StyleView",
      "description_width": ""
     }
    },
    "6a2a89d1204d49f6814c8faa8d88920c": {
     "model_module": "@jupyter-widgets/base",
     "model_module_version": "1.2.0",
     "model_name": "LayoutModel",
     "state": {
      "_model_module": "@jupyter-widgets/base",
      "_model_module_version": "1.2.0",
      "_model_name": "LayoutModel",
      "_view_count": null,
      "_view_module": "@jupyter-widgets/base",
      "_view_module_version": "1.2.0",
      "_view_name": "LayoutView",
      "align_content": null,
      "align_items": null,
      "align_self": null,
      "border": null,
      "bottom": null,
      "display": null,
      "flex": null,
      "flex_flow": null,
      "grid_area": null,
      "grid_auto_columns": null,
      "grid_auto_flow": null,
      "grid_auto_rows": null,
      "grid_column": null,
      "grid_gap": null,
      "grid_row": null,
      "grid_template_areas": null,
      "grid_template_columns": null,
      "grid_template_rows": null,
      "height": null,
      "justify_content": null,
      "justify_items": null,
      "left": null,
      "margin": null,
      "max_height": null,
      "max_width": null,
      "min_height": null,
      "min_width": null,
      "object_fit": null,
      "object_position": null,
      "order": null,
      "overflow": null,
      "overflow_x": null,
      "overflow_y": null,
      "padding": null,
      "right": null,
      "top": null,
      "visibility": null,
      "width": null
     }
    },
    "6f98e517928d495ba0afab4f13b44bb3": {
     "model_module": "@jupyter-widgets/controls",
     "model_module_version": "1.5.0",
     "model_name": "HTMLModel",
     "state": {
      "_dom_classes": [],
      "_model_module": "@jupyter-widgets/controls",
      "_model_module_version": "1.5.0",
      "_model_name": "HTMLModel",
      "_view_count": null,
      "_view_module": "@jupyter-widgets/controls",
      "_view_module_version": "1.5.0",
      "_view_name": "HTMLView",
      "description": "",
      "description_tooltip": null,
      "layout": "IPY_MODEL_c1952fd943de4139aadd6b88e2f3fffc",
      "placeholder": "​",
      "style": "IPY_MODEL_97fde41ac8aa437281588dac9864c457",
      "value": "Downloading (…)lve/main/config.json: 100%"
     }
    },
    "79a821f2f0a14297b6bf045ec44324bd": {
     "model_module": "@jupyter-widgets/base",
     "model_module_version": "1.2.0",
     "model_name": "LayoutModel",
     "state": {
      "_model_module": "@jupyter-widgets/base",
      "_model_module_version": "1.2.0",
      "_model_name": "LayoutModel",
      "_view_count": null,
      "_view_module": "@jupyter-widgets/base",
      "_view_module_version": "1.2.0",
      "_view_name": "LayoutView",
      "align_content": null,
      "align_items": null,
      "align_self": null,
      "border": null,
      "bottom": null,
      "display": null,
      "flex": null,
      "flex_flow": null,
      "grid_area": null,
      "grid_auto_columns": null,
      "grid_auto_flow": null,
      "grid_auto_rows": null,
      "grid_column": null,
      "grid_gap": null,
      "grid_row": null,
      "grid_template_areas": null,
      "grid_template_columns": null,
      "grid_template_rows": null,
      "height": null,
      "justify_content": null,
      "justify_items": null,
      "left": null,
      "margin": null,
      "max_height": null,
      "max_width": null,
      "min_height": null,
      "min_width": null,
      "object_fit": null,
      "object_position": null,
      "order": null,
      "overflow": null,
      "overflow_x": null,
      "overflow_y": null,
      "padding": null,
      "right": null,
      "top": null,
      "visibility": null,
      "width": null
     }
    },
    "7d8511e7607947f1b80bb952c9dda9a9": {
     "model_module": "@jupyter-widgets/controls",
     "model_module_version": "1.5.0",
     "model_name": "DescriptionStyleModel",
     "state": {
      "_model_module": "@jupyter-widgets/controls",
      "_model_module_version": "1.5.0",
      "_model_name": "DescriptionStyleModel",
      "_view_count": null,
      "_view_module": "@jupyter-widgets/base",
      "_view_module_version": "1.2.0",
      "_view_name": "StyleView",
      "description_width": ""
     }
    },
    "7e13a3602621483e88ff770b79b992d8": {
     "model_module": "@jupyter-widgets/base",
     "model_module_version": "1.2.0",
     "model_name": "LayoutModel",
     "state": {
      "_model_module": "@jupyter-widgets/base",
      "_model_module_version": "1.2.0",
      "_model_name": "LayoutModel",
      "_view_count": null,
      "_view_module": "@jupyter-widgets/base",
      "_view_module_version": "1.2.0",
      "_view_name": "LayoutView",
      "align_content": null,
      "align_items": null,
      "align_self": null,
      "border": null,
      "bottom": null,
      "display": null,
      "flex": null,
      "flex_flow": null,
      "grid_area": null,
      "grid_auto_columns": null,
      "grid_auto_flow": null,
      "grid_auto_rows": null,
      "grid_column": null,
      "grid_gap": null,
      "grid_row": null,
      "grid_template_areas": null,
      "grid_template_columns": null,
      "grid_template_rows": null,
      "height": null,
      "justify_content": null,
      "justify_items": null,
      "left": null,
      "margin": null,
      "max_height": null,
      "max_width": null,
      "min_height": null,
      "min_width": null,
      "object_fit": null,
      "object_position": null,
      "order": null,
      "overflow": null,
      "overflow_x": null,
      "overflow_y": null,
      "padding": null,
      "right": null,
      "top": null,
      "visibility": null,
      "width": null
     }
    },
    "7e6008ed877c42acbbcefa1770735d25": {
     "model_module": "@jupyter-widgets/controls",
     "model_module_version": "1.5.0",
     "model_name": "DescriptionStyleModel",
     "state": {
      "_model_module": "@jupyter-widgets/controls",
      "_model_module_version": "1.5.0",
      "_model_name": "DescriptionStyleModel",
      "_view_count": null,
      "_view_module": "@jupyter-widgets/base",
      "_view_module_version": "1.2.0",
      "_view_name": "StyleView",
      "description_width": ""
     }
    },
    "8378ac445a8544c7bf36ac9252bc59df": {
     "model_module": "@jupyter-widgets/base",
     "model_module_version": "1.2.0",
     "model_name": "LayoutModel",
     "state": {
      "_model_module": "@jupyter-widgets/base",
      "_model_module_version": "1.2.0",
      "_model_name": "LayoutModel",
      "_view_count": null,
      "_view_module": "@jupyter-widgets/base",
      "_view_module_version": "1.2.0",
      "_view_name": "LayoutView",
      "align_content": null,
      "align_items": null,
      "align_self": null,
      "border": null,
      "bottom": null,
      "display": null,
      "flex": null,
      "flex_flow": null,
      "grid_area": null,
      "grid_auto_columns": null,
      "grid_auto_flow": null,
      "grid_auto_rows": null,
      "grid_column": null,
      "grid_gap": null,
      "grid_row": null,
      "grid_template_areas": null,
      "grid_template_columns": null,
      "grid_template_rows": null,
      "height": null,
      "justify_content": null,
      "justify_items": null,
      "left": null,
      "margin": null,
      "max_height": null,
      "max_width": null,
      "min_height": null,
      "min_width": null,
      "object_fit": null,
      "object_position": null,
      "order": null,
      "overflow": null,
      "overflow_x": null,
      "overflow_y": null,
      "padding": null,
      "right": null,
      "top": null,
      "visibility": null,
      "width": null
     }
    },
    "8d310825baef404fb3f19d590c2c4d3b": {
     "model_module": "@jupyter-widgets/base",
     "model_module_version": "1.2.0",
     "model_name": "LayoutModel",
     "state": {
      "_model_module": "@jupyter-widgets/base",
      "_model_module_version": "1.2.0",
      "_model_name": "LayoutModel",
      "_view_count": null,
      "_view_module": "@jupyter-widgets/base",
      "_view_module_version": "1.2.0",
      "_view_name": "LayoutView",
      "align_content": null,
      "align_items": null,
      "align_self": null,
      "border": null,
      "bottom": null,
      "display": null,
      "flex": null,
      "flex_flow": null,
      "grid_area": null,
      "grid_auto_columns": null,
      "grid_auto_flow": null,
      "grid_auto_rows": null,
      "grid_column": null,
      "grid_gap": null,
      "grid_row": null,
      "grid_template_areas": null,
      "grid_template_columns": null,
      "grid_template_rows": null,
      "height": null,
      "justify_content": null,
      "justify_items": null,
      "left": null,
      "margin": null,
      "max_height": null,
      "max_width": null,
      "min_height": null,
      "min_width": null,
      "object_fit": null,
      "object_position": null,
      "order": null,
      "overflow": null,
      "overflow_x": null,
      "overflow_y": null,
      "padding": null,
      "right": null,
      "top": null,
      "visibility": null,
      "width": null
     }
    },
    "97fde41ac8aa437281588dac9864c457": {
     "model_module": "@jupyter-widgets/controls",
     "model_module_version": "1.5.0",
     "model_name": "DescriptionStyleModel",
     "state": {
      "_model_module": "@jupyter-widgets/controls",
      "_model_module_version": "1.5.0",
      "_model_name": "DescriptionStyleModel",
      "_view_count": null,
      "_view_module": "@jupyter-widgets/base",
      "_view_module_version": "1.2.0",
      "_view_name": "StyleView",
      "description_width": ""
     }
    },
    "af16b6fcf14b412fa2e32bd9e5eaacc3": {
     "model_module": "@jupyter-widgets/base",
     "model_module_version": "1.2.0",
     "model_name": "LayoutModel",
     "state": {
      "_model_module": "@jupyter-widgets/base",
      "_model_module_version": "1.2.0",
      "_model_name": "LayoutModel",
      "_view_count": null,
      "_view_module": "@jupyter-widgets/base",
      "_view_module_version": "1.2.0",
      "_view_name": "LayoutView",
      "align_content": null,
      "align_items": null,
      "align_self": null,
      "border": null,
      "bottom": null,
      "display": null,
      "flex": null,
      "flex_flow": null,
      "grid_area": null,
      "grid_auto_columns": null,
      "grid_auto_flow": null,
      "grid_auto_rows": null,
      "grid_column": null,
      "grid_gap": null,
      "grid_row": null,
      "grid_template_areas": null,
      "grid_template_columns": null,
      "grid_template_rows": null,
      "height": null,
      "justify_content": null,
      "justify_items": null,
      "left": null,
      "margin": null,
      "max_height": null,
      "max_width": null,
      "min_height": null,
      "min_width": null,
      "object_fit": null,
      "object_position": null,
      "order": null,
      "overflow": null,
      "overflow_x": null,
      "overflow_y": null,
      "padding": null,
      "right": null,
      "top": null,
      "visibility": null,
      "width": null
     }
    },
    "ba7fac6723bf40b39fa3c0dabfc5fa5f": {
     "model_module": "@jupyter-widgets/controls",
     "model_module_version": "1.5.0",
     "model_name": "HTMLModel",
     "state": {
      "_dom_classes": [],
      "_model_module": "@jupyter-widgets/controls",
      "_model_module_version": "1.5.0",
      "_model_name": "HTMLModel",
      "_view_count": null,
      "_view_module": "@jupyter-widgets/controls",
      "_view_module_version": "1.5.0",
      "_view_name": "HTMLView",
      "description": "",
      "description_tooltip": null,
      "layout": "IPY_MODEL_af16b6fcf14b412fa2e32bd9e5eaacc3",
      "placeholder": "​",
      "style": "IPY_MODEL_7d8511e7607947f1b80bb952c9dda9a9",
      "value": " 481/481 [00:00&lt;00:00, 12.5kB/s]"
     }
    },
    "bfd170be057b421eb6111b9ce7036ba4": {
     "model_module": "@jupyter-widgets/base",
     "model_module_version": "1.2.0",
     "model_name": "LayoutModel",
     "state": {
      "_model_module": "@jupyter-widgets/base",
      "_model_module_version": "1.2.0",
      "_model_name": "LayoutModel",
      "_view_count": null,
      "_view_module": "@jupyter-widgets/base",
      "_view_module_version": "1.2.0",
      "_view_name": "LayoutView",
      "align_content": null,
      "align_items": null,
      "align_self": null,
      "border": null,
      "bottom": null,
      "display": null,
      "flex": null,
      "flex_flow": null,
      "grid_area": null,
      "grid_auto_columns": null,
      "grid_auto_flow": null,
      "grid_auto_rows": null,
      "grid_column": null,
      "grid_gap": null,
      "grid_row": null,
      "grid_template_areas": null,
      "grid_template_columns": null,
      "grid_template_rows": null,
      "height": null,
      "justify_content": null,
      "justify_items": null,
      "left": null,
      "margin": null,
      "max_height": null,
      "max_width": null,
      "min_height": null,
      "min_width": null,
      "object_fit": null,
      "object_position": null,
      "order": null,
      "overflow": null,
      "overflow_x": null,
      "overflow_y": null,
      "padding": null,
      "right": null,
      "top": null,
      "visibility": null,
      "width": null
     }
    },
    "c1952fd943de4139aadd6b88e2f3fffc": {
     "model_module": "@jupyter-widgets/base",
     "model_module_version": "1.2.0",
     "model_name": "LayoutModel",
     "state": {
      "_model_module": "@jupyter-widgets/base",
      "_model_module_version": "1.2.0",
      "_model_name": "LayoutModel",
      "_view_count": null,
      "_view_module": "@jupyter-widgets/base",
      "_view_module_version": "1.2.0",
      "_view_name": "LayoutView",
      "align_content": null,
      "align_items": null,
      "align_self": null,
      "border": null,
      "bottom": null,
      "display": null,
      "flex": null,
      "flex_flow": null,
      "grid_area": null,
      "grid_auto_columns": null,
      "grid_auto_flow": null,
      "grid_auto_rows": null,
      "grid_column": null,
      "grid_gap": null,
      "grid_row": null,
      "grid_template_areas": null,
      "grid_template_columns": null,
      "grid_template_rows": null,
      "height": null,
      "justify_content": null,
      "justify_items": null,
      "left": null,
      "margin": null,
      "max_height": null,
      "max_width": null,
      "min_height": null,
      "min_width": null,
      "object_fit": null,
      "object_position": null,
      "order": null,
      "overflow": null,
      "overflow_x": null,
      "overflow_y": null,
      "padding": null,
      "right": null,
      "top": null,
      "visibility": null,
      "width": null
     }
    },
    "c2c2324584194f44a42e00fc4e8d13ac": {
     "model_module": "@jupyter-widgets/controls",
     "model_module_version": "1.5.0",
     "model_name": "FloatProgressModel",
     "state": {
      "_dom_classes": [],
      "_model_module": "@jupyter-widgets/controls",
      "_model_module_version": "1.5.0",
      "_model_name": "FloatProgressModel",
      "_view_count": null,
      "_view_module": "@jupyter-widgets/controls",
      "_view_module_version": "1.5.0",
      "_view_name": "ProgressView",
      "bar_style": "success",
      "description": "",
      "description_tooltip": null,
      "layout": "IPY_MODEL_6a2a89d1204d49f6814c8faa8d88920c",
      "max": 481,
      "min": 0,
      "orientation": "horizontal",
      "style": "IPY_MODEL_56b0103653c8498fbe7ccfbb7c353ea1",
      "value": 481
     }
    },
    "d222a8dbfeb64223b6de4b7235ac0f05": {
     "model_module": "@jupyter-widgets/controls",
     "model_module_version": "1.5.0",
     "model_name": "DescriptionStyleModel",
     "state": {
      "_model_module": "@jupyter-widgets/controls",
      "_model_module_version": "1.5.0",
      "_model_name": "DescriptionStyleModel",
      "_view_count": null,
      "_view_module": "@jupyter-widgets/base",
      "_view_module_version": "1.2.0",
      "_view_name": "StyleView",
      "description_width": ""
     }
    },
    "fe91998786924c75b3d2be994368c72d": {
     "model_module": "@jupyter-widgets/controls",
     "model_module_version": "1.5.0",
     "model_name": "HTMLModel",
     "state": {
      "_dom_classes": [],
      "_model_module": "@jupyter-widgets/controls",
      "_model_module_version": "1.5.0",
      "_model_name": "HTMLModel",
      "_view_count": null,
      "_view_module": "@jupyter-widgets/controls",
      "_view_module_version": "1.5.0",
      "_view_name": "HTMLView",
      "description": "",
      "description_tooltip": null,
      "layout": "IPY_MODEL_8378ac445a8544c7bf36ac9252bc59df",
      "placeholder": "​",
      "style": "IPY_MODEL_680dfa1349084b9f835d3dd45c025842",
      "value": "Downloading (…)olve/main/vocab.json: 100%"
     }
    }
   }
  }
 },
 "nbformat": 4,
 "nbformat_minor": 4
}
